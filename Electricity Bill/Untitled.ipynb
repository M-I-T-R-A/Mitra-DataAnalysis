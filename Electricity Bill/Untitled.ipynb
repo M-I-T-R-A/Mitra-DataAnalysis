{
 "cells": [
  {
   "cell_type": "code",
   "execution_count": 10,
   "metadata": {},
   "outputs": [],
   "source": [
    "import cv2\n",
    "import numpy as np\n",
    "import pandas as pd\n",
    "import matplotlib.pyplot as plt\n",
    "import csv\n",
    "try:\n",
    "    from PIL import Image\n",
    "except ImportError:\n",
    "    import Image\n",
    "import pytesseract\n",
    "from pytesseract import Output\n",
    "pytesseract.pytesseract.tesseract_cmd = r'C:/Program Files/Tesseract-OCR/tesseract'"
   ]
  },
  {
   "cell_type": "code",
   "execution_count": 46,
   "metadata": {},
   "outputs": [],
   "source": [
    "def readImage(file):\n",
    "    #read your file\n",
    "    img = cv2.imread(file)\n",
    "    img.shape\n",
    "    gray = cv2.cvtColor(img, cv2.COLOR_BGR2GRAY)\n",
    "    thresh = cv2.threshold(gray, 127, 255, cv2.THRESH_BINARY + cv2.THRESH_OTSU)[1]\n",
    "    \n",
    "    return thresh"
   ]
  },
  {
   "cell_type": "code",
   "execution_count": 8,
   "metadata": {},
   "outputs": [],
   "source": [
    "import pandas as pd"
   ]
  },
  {
   "cell_type": "code",
   "execution_count": 49,
   "metadata": {},
   "outputs": [],
   "source": [
    "def ocr(img):\n",
    "    ocr = []\n",
    "    custom_config = r'-l eng --oem 1 --psm 6 '\n",
    "    d = pytesseract.image_to_data(img, config=custom_config, output_type=Output.DICT)\n",
    "    df = pd.DataFrame(d)\n",
    "\n",
    "    df1 = df[(df.conf != '-1') & (df.text != ' ') & (df.text != '')]\n",
    "    pd.set_option('display.max_rows', None)\n",
    "    pd.set_option('display.max_columns', None)\n",
    "\n",
    "    sorted_blocks = df1.groupby('block_num').first().sort_values('top').index.tolist()\n",
    "    for block in sorted_blocks:\n",
    "        curr = df1[df1['block_num'] == block]\n",
    "        sel = curr[curr.text.str.len() > 3]\n",
    "        # sel = curr\n",
    "        char_w = (sel.width / sel.text.str.len()).mean()\n",
    "        prev_par, prev_line, prev_left = 0, 0, 0\n",
    "        text = ''\n",
    "        for ix, ln in curr.iterrows():\n",
    "            # add new line when necessary\n",
    "            if prev_par != ln['par_num']:\n",
    "                text += '\\n'\n",
    "                prev_par = ln['par_num']\n",
    "                prev_line = ln['line_num']\n",
    "                prev_left = 0\n",
    "            elif prev_line != ln['line_num']:\n",
    "                text += '\\n'\n",
    "                prev_line = ln['line_num']\n",
    "                prev_left = 0\n",
    "\n",
    "            added = 0  # num of spaces that should be added\n",
    "            if ln['left'] / char_w > prev_left + 1:\n",
    "                added = int((ln['left']) / char_w) - prev_left\n",
    "                text += ' ' * added\n",
    "            text += ln['text'] + ' '\n",
    "            prev_left += len(ln['text']) + added + 1\n",
    "        text+='\\n'\n",
    "        ocr.append(text)\n",
    "    return '\\n'.join(ocr)"
   ]
  },
  {
   "cell_type": "code",
   "execution_count": 50,
   "metadata": {},
   "outputs": [
    {
     "name": "stdout",
     "output_type": "stream",
     "text": [
      "\n",
      "                                                       Maharasnva Sate Bectity Ds baton Go tid \n",
      "                         Maharashtra             State     Electricity        Distribution          Co.     Ltd. \n",
      "                                                         Bill of Supply For: APR-2020 \n",
      "           Website :www.mahadiscom.in \n",
      "           GSTIN  of MSEDCL 27AAECM2933K  1ZB                                                                 HSN  code 27160000 \n",
      "           BILL NO.(GGN): 000000761530902 \n",
      "           Consumer  No: 029470759320                                                          Bill Date               20-APR-20 \n",
      "           SHRI GEOFF  MENDES   ELITA FMENDES                                                  Bill Amount Rs:            590.00 \n",
      "           FLATA804  PL21 SEC7SIMRAN  RESI KHARGHAR   410210 \n",
      "           Mobile/Email:                              o7*49/\"*\"tdubey.  stat@gmail.com         Due Date:               31-MAY-20 \n",
      "                                                                                               If Paid After Due Date!    600.00 \n",
      "           Billing Unit: 4795 :-KHARGHAR S/DN                   Supply Date: 05-Mar-08                       Ey:   ie    ‘ec [a] \n",
      "           TariffiCategory: 090 /LT | Res 1-Phase               Sanct. Load: 4.8 KW                           aa   a a fod    n \n",
      "           Pole No: 00000000                                    Security Deposit(Rs}: 3.00.00   ScanthisQR     taray eed       ‘] \n",
      "           PC/MR/Route  Sequence/DTC; 1 / 03-3007-3230 4795032  Current Reading Date:          Code with      Sey  Fer \n",
      "           Meter No: 01300442718                                Previous Reading Date: 07-     BHIM  App for    Peete)      at \n",
      "                                                                MAR-20                         UPI Payment      Sea      me ey \n",
      "           Reading Group: G1                                                                                  7a?  REP       as \n",
      "                                                                                                              mr    OE   reli \n",
      "               Current      Previous                                                                                     aie \n",
      "               Reading      Reading         MF            Unit       Adj. Unit       Total     QR Stsgit ten  Sea,   HRT \n",
      "                                                                                                SAATTAR   SM] orate TAR TE \n",
      "             Not Available   23388          a1            122            0           122       aon  ae van facia one   ia  BIHTA \n",
      "                                                                                               erfag  evar   aga. \n",
      "           Meter status:Billed on Avg (R.N.T.) \n",
      "           Bill Period: 1 Month(s) / \n",
      "           Billing History:                                                                    ~ For any queries on this bill \n",
      "           250                                                                                 please contact \n",
      "                                                                           we                  MSEDCL   Call Center:18002333435/180 \n",
      "                                                                                               01023435/1912. \n",
      "           200                                                       179 \n",
      "                  170                                                                               .                         . \n",
      "                                                  160   ue    tas                       187    Wieatan  aera   Panu   evar    iret \n",
      "           150                                                                                 Prem a @reergal Herero \n",
      "                                     ng     123                                                aba  Re: \n",
      "                               105                                                             www.mahadiscom.in   > \n",
      "           100           *                                                                     ConsumerPortal  > CGRF \n",
      "                                                                                               Uae  SUE    STE. \n",
      "            50 \n",
      "             0       :     -      :     :     :      :     :     :     :      :     :     : \n",
      "                :                                                                    .                 + \n",
      "          ena     fier  tat    gam     at   ate     ea  oq  wae    fam       %   Sua      qieis  fede      feasted      e@xvcorendt- \n",
      "          https://consumerinfo.mahadiscom.in/gogreen.php (GGN Aa Gea Seer FAeray GLE START STOUT HLA  TaeTa 312.) \n",
      "          2. Fetter AremaTgTe fara Fetct HIF 0.24% (. goo. Wa) wae fhesar Cate a Sacha aes) \n",
      "          3. Gaal Hage aR a Sha Te  Pea   HAA    GORI BT GARI   -https://consumerinfo.mahadiscom in/ AY Ve ea. \n",
      "         vy. ga fen   Ast  Meo:    08-05-2020 Fa ARS   Se. \n",
      "         Special Message : \n",
      "          * Consumers can pay electricity bill online through MSEDCL official website www.mahadiscom in and through MAHAVITARAN Mobile App \n",
      "         without any extra charges. Consumers will not be charged any extra charges for electricity bill payments made through Net banking, UPI, Debit \n",
      "         card, Digital wallet and Cash cards \n",
      "         * MSEDCL   has started facility to give information of meter reading through SMS on registered mobile number of the consumers after meter \n",
      "          reading taken. Consumer can view the photo of meter reading on ‘Consumer Portal’ of MSEDCL. \n",
      "\n"
     ]
    }
   ],
   "source": [
    "file=r'./maha.png'\n",
    "img = readImage(file)\n",
    "text = ocr(img)\n",
    "print(text)"
   ]
  },
  {
   "cell_type": "code",
   "execution_count": 51,
   "metadata": {},
   "outputs": [
    {
     "name": "stdout",
     "output_type": "stream",
     "text": [
      "\n",
      "        e \n",
      "                i \n",
      "    ow    a                oo, \n",
      "                                            me \n",
      "                  ceacwe   yim  wee \n",
      "\n"
     ]
    }
   ],
   "source": [
    "file=r'./mp2.jpeg'\n",
    "img = readImage(file)\n",
    "text = ocr(img)\n",
    "print(text)"
   ]
  }
 ],
 "metadata": {
  "kernelspec": {
   "display_name": "Python 3",
   "language": "python",
   "name": "python3"
  },
  "language_info": {
   "codemirror_mode": {
    "name": "ipython",
    "version": 3
   },
   "file_extension": ".py",
   "mimetype": "text/x-python",
   "name": "python",
   "nbconvert_exporter": "python",
   "pygments_lexer": "ipython3",
   "version": "3.6.9"
  }
 },
 "nbformat": 4,
 "nbformat_minor": 4
}
